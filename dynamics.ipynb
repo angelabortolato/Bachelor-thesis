{
 "cells": [
  {
   "cell_type": "markdown",
   "metadata": {},
   "source": [
    "la dinamica della rete è descitta dall'equazione: tau*dx_i/dt=-x_i(t)+sum(J_ij*r_j(t))+sum(B_ik*u_k(t)) con r_j(t)=tanh(x_i(t))"
   ]
  },
  {
   "cell_type": "code",
   "execution_count": 22,
   "metadata": {},
   "outputs": [],
   "source": [
    "import numpy as np\n",
    "import random \n",
    "import matplotlib.pyplot as plt"
   ]
  },
  {
   "cell_type": "markdown",
   "metadata": {},
   "source": [
    "Generation class trial"
   ]
  },
  {
   "cell_type": "code",
   "execution_count": 23,
   "metadata": {},
   "outputs": [],
   "source": [
    "def trial(T=1500):\n",
    "        \n",
    "    u=np.zeros((T,2))\n",
    "    \n",
    "    #y=np.zeros(T)\n",
    "  \n",
    "    stim1=np.random.randint(0,2) # random number, either 0 or 1 -> 0=A 1=B\n",
    "    stim2=np.random.randint(0,2) # random number, either 0 or 1\n",
    "\n",
    "    ty=stim1+2*stim2                        #trial type: 0=AA, 1=BA, 2=AB, 3=BB\n",
    "\n",
    "    ''' \n",
    "    if stim=0 (A) u1=1 and u2=0\n",
    "    if stim=1 (B) u1=0 and u2=1\n",
    "    '''\n",
    "    \n",
    "    u[:200,stim1]=1\n",
    "    u[400:600,stim2]=1\n",
    "\n",
    "    ''' \n",
    "    if identical inputs, output = -1\n",
    "    if different inputs, output = 1\n",
    "    '''\n",
    "    \n",
    "    #y[800:1000]=-1+2*np.mod(stim1+stim2,2)\n",
    "    y=-1+2*np.mod(stim1+stim2,2)\n",
    "    \n",
    "    return u,y,ty\n",
    "\n",
    "\n",
    "def generate_trials(n_trials,T=1500):\n",
    "\n",
    "    U = np.zeros((n_trials,T,2))\n",
    "    Y = np.zeros(n_trials)#,T))\n",
    "    TY=np.zeros(n_trials)\n",
    "\n",
    "    for n in range(n_trials):\n",
    "        \n",
    "        u,y,ty=trial()\n",
    "        \n",
    "        U[n,:,:]=u\n",
    "        #Y[n,:]=y\n",
    "        Y[n]=y\n",
    "        TY[n]=ty\n",
    "\n",
    "    return U,Y,TY\n",
    "        "
   ]
  },
  {
   "cell_type": "markdown",
   "metadata": {},
   "source": [
    "Constants and initialization"
   ]
  },
  {
   "cell_type": "code",
   "execution_count": 36,
   "metadata": {
    "scrolled": true
   },
   "outputs": [],
   "source": [
    "N=200           #numero neuroni\n",
    "M=2             #numero input\n",
    "tau=30          #tempo di rilassamento\n",
    "g=1.5           #early chaotic\n",
    "eta=0.5         #learning rate\n",
    "alpha=0.33\n",
    "\n",
    "dt=1.\n",
    "T=1500\n",
    "n_trials=1000\n",
    "tottime=T*n_trials\n",
    "\n",
    "b=dt/tau            #per semplicità definisco una nuova costante\n",
    "\n",
    "\n",
    "J=np.zeros((N,N))\n",
    "deltaJ=np.zeros((N,N))  #### check initialization!!!\n",
    "x=np.zeros((N,tottime))\n",
    "x_ave=np.zeros(N)\n",
    "r=np.zeros((N,tottime))\n",
    "u=np.zeros((M,tottime))\n",
    "\n",
    "E=np.zeros((N,N))#,tottime)) \n",
    "\n",
    "z=np.zeros(tottime)\n",
    "B=np.zeros((N,M))\n",
    "\n",
    "U,Y,TY = generate_trials(T=T,n_trials=n_trials)\n",
    "\n",
    "R_ave=np.zeros(4)       #running average for each trial type\n",
    "\n",
    "u=np.reshape(U,(n_trials*T,2)).T\n"
   ]
  },
  {
   "cell_type": "code",
   "execution_count": 37,
   "metadata": {},
   "outputs": [],
   "source": [
    "J = np.random.normal(0,g/np.sqrt(N),(N,N))\n",
    "\n",
    "B= -1+2*np.random.rand(N,M)\n",
    "\n",
    "x[:,0]=-0.1+0.2*np.random.rand(N)\n"
   ]
  },
  {
   "cell_type": "markdown",
   "metadata": {},
   "source": [
    "Creating exploratory noise"
   ]
  },
  {
   "cell_type": "code",
   "execution_count": 26,
   "metadata": {},
   "outputs": [],
   "source": [
    "noise= np.zeros((N,tottime))\n",
    "rate=3./1000\n",
    "\n",
    "for t in range(tottime):\n",
    "     for i in range(N):\n",
    "          if(np.random.rand()<rate):\n",
    "               noise[i,t]=-0.5+1.*np.random.rand()\n",
    "\n",
    "#print(noise[:,:5])                 ###provo a contrarre gli indici, ma questo mi produce noise=0  "
   ]
  },
  {
   "cell_type": "markdown",
   "metadata": {},
   "source": [
    "Fix biased neurons"
   ]
  },
  {
   "cell_type": "code",
   "execution_count": 32,
   "metadata": {},
   "outputs": [],
   "source": [
    "n_fixed=4\n",
    "\n",
    "fixed_neurons = np.random.choice(N,n_fixed,replace=False)\n",
    "\n",
    "non_fixed_neurons = np.delete(np.arange(N),fixed_neurons)\n",
    "\n",
    "reading_neuron = np.random.choice(non_fixed_neurons,1)\n",
    "reading_neuron = reading_neuron[0]\n",
    "\n",
    "\n",
    "x[fixed_neurons,:]=1\n",
    "\n"
   ]
  },
  {
   "cell_type": "markdown",
   "metadata": {},
   "source": [
    "Training"
   ]
  },
  {
   "cell_type": "code",
   "execution_count": 38,
   "metadata": {},
   "outputs": [
    {
     "name": "stdout",
     "output_type": "stream",
     "text": [
      "type\tY\toutput\terror\tReward\n",
      "2 1.0 0.9199324904634603 0.08006750953653974 0.9599662452317301\n",
      "0 -1.0 0.15652576126254097 1.156525761262541 0.4217371193687295\n",
      "3 -1.0 0.1761816895015163 1.1761816895015162 0.4119091552492419\n",
      "1 1.0 -128.33726678561246 129.33726678561246 -63.66863339280623\n",
      "3 -1.0 -53925609733660.06 53925609733659.06 -26962804866828.53\n",
      "3 -1.0 -9.637815420220479e+61 9.637815420220479e+61 -4.8189077101102394e+61\n"
     ]
    },
    {
     "name": "stderr",
     "output_type": "stream",
     "text": [
      "C:\\Users\\angel\\AppData\\Local\\Temp\\ipykernel_21216\\3919008509.py:30: RuntimeWarning: overflow encountered in power\n",
      "  E[:,j]+=(r[j,ntime]*(x[:,ntime+1]-x_ave[:]))**3\n",
      "C:\\Users\\angel\\AppData\\Local\\Temp\\ipykernel_21216\\3919008509.py:30: RuntimeWarning: invalid value encountered in add\n",
      "  E[:,j]+=(r[j,ntime]*(x[:,ntime+1]-x_ave[:]))**3\n"
     ]
    },
    {
     "ename": "KeyboardInterrupt",
     "evalue": "",
     "output_type": "error",
     "traceback": [
      "\u001b[1;31m---------------------------------------------------------------------------\u001b[0m",
      "\u001b[1;31mKeyboardInterrupt\u001b[0m                         Traceback (most recent call last)",
      "Input \u001b[1;32mIn [38]\u001b[0m, in \u001b[0;36m<cell line: 4>\u001b[1;34m()\u001b[0m\n\u001b[0;32m     27\u001b[0m x_ave[:]\u001b[38;5;241m=\u001b[39mnp\u001b[38;5;241m.\u001b[39mmean(x[:, short_term],axis\u001b[38;5;241m=\u001b[39m\u001b[38;5;241m1\u001b[39m)                   \u001b[38;5;66;03m# short-term average on last 5 neuron activity\u001b[39;00m\n\u001b[0;32m     29\u001b[0m \u001b[38;5;28;01mfor\u001b[39;00m j \u001b[38;5;129;01min\u001b[39;00m \u001b[38;5;28mrange\u001b[39m(N):\n\u001b[1;32m---> 30\u001b[0m     E[:,j]\u001b[38;5;241m+\u001b[39m\u001b[38;5;241m=\u001b[39m(r[j,ntime]\u001b[38;5;241m*\u001b[39m(x[:,ntime\u001b[38;5;241m+\u001b[39m\u001b[38;5;241m1\u001b[39m]\u001b[38;5;241m-\u001b[39mx_ave[:]))\u001b[38;5;241m*\u001b[39m\u001b[38;5;241m*\u001b[39m\u001b[38;5;241m3\u001b[39m           \n\u001b[0;32m     32\u001b[0m \u001b[38;5;28;01mif\u001b[39;00m(np\u001b[38;5;241m.\u001b[39mmod(ntime,T)\u001b[38;5;241m==\u001b[39mT\u001b[38;5;241m-\u001b[39m\u001b[38;5;241m2\u001b[39m):                       \u001b[38;5;66;03m#ultimo time step di ciascun trial \u001b[39;00m\n\u001b[0;32m     34\u001b[0m     curr_trial\u001b[38;5;241m=\u001b[39mntime\u001b[38;5;241m/\u001b[39m\u001b[38;5;241m/\u001b[39mT\n",
      "\u001b[1;31mKeyboardInterrupt\u001b[0m: "
     ]
    }
   ],
   "source": [
    "print(\"type\", \"Y\", \"output\", \"error\", \"Reward\", sep='\\t')\n",
    "\n",
    "\n",
    "for ntime in range(tottime-1):\n",
    "\n",
    "\n",
    "\n",
    "    if (ntime<5):\n",
    "        short_term=np.arange(ntime+1)\n",
    "    else:\n",
    "        short_term=np.arange(ntime-5, ntime+1, 1)       #indices from ntime-5 to ntime included \n",
    "        \n",
    "\n",
    "    r[:,ntime]=np.tanh(x[:,ntime])\n",
    "    x[:,ntime]+=noise[:,ntime]              \n",
    "    \n",
    "    sumJ=np.matmul(J,r[:,ntime])\n",
    "        \n",
    "    sumB=np.matmul(B,u[:,ntime])\n",
    "    \n",
    "    #x[non_fixed_neurons,ntime+1]=x[non_fixed_neurons,ntime]*(1-b)+\\\n",
    "    #b*sumB[non_fixed_neurons]+b*sumJ[non_fixed_neurons]      #ESPLICITO\n",
    "\n",
    "    x[non_fixed_neurons,ntime+1]=x[non_fixed_neurons,ntime]/(1+b)+b/(1+b)*(sumJ[non_fixed_neurons]+sumB[non_fixed_neurons])       #IMPLICITO\n",
    "\n",
    "\n",
    "    x_ave[:]=np.mean(x[:, short_term],axis=1)                   # short-term average on last 5 neuron activity\n",
    "\n",
    "    for j in range(N):\n",
    "        E[:,j]+=(r[j,ntime]*(x[:,ntime+1]-x_ave[:]))**3           \n",
    "   \n",
    "    if(np.mod(ntime,T)==T-2):                       #ultimo time step di ciascun trial \n",
    "\n",
    "        curr_trial=ntime//T\n",
    "        curr_ty=int(TY[curr_trial])           #trial type : 0=AA, 1=BA, 2=AB, 3=BB\n",
    "\n",
    "        outp=np.mean(x[reading_neuron,(ntime-699):(ntime-499)])\n",
    "        err=abs(Y[curr_trial]-outp)\n",
    "        R=1-0.5*err\n",
    "        print(curr_ty, Y[curr_trial], outp, err, R)\n",
    "        \n",
    "        for j in range(N):\n",
    "            deltaJ[:,j]=eta*E[:,j]*(R-R_ave[curr_ty])\n",
    "            J[:,j]+=deltaJ[:,j]\n",
    "        R_ave[curr_ty]=alpha*R_ave[curr_ty]+(1-alpha)*R\n",
    "        E[:,...]=0\n",
    "        \n",
    "       # z=x[reading_neuron,:]     \n",
    "\n",
    "\n"
   ]
  },
  {
   "cell_type": "markdown",
   "metadata": {},
   "source": [
    "Simulation dynamics already trained"
   ]
  },
  {
   "cell_type": "code",
   "execution_count": null,
   "metadata": {},
   "outputs": [
    {
     "ename": "KeyboardInterrupt",
     "evalue": "",
     "output_type": "error",
     "traceback": [
      "\u001b[1;31m---------------------------------------------------------------------------\u001b[0m",
      "\u001b[1;31mKeyboardInterrupt\u001b[0m                         Traceback (most recent call last)",
      "Input \u001b[1;32mIn [171]\u001b[0m, in \u001b[0;36m<cell line: 1>\u001b[1;34m()\u001b[0m\n\u001b[0;32m      7\u001b[0m     sumJ\u001b[38;5;241m=\u001b[39mnp\u001b[38;5;241m.\u001b[39mmatmul(J,r[:,ntime])\n\u001b[0;32m      9\u001b[0m     sumB\u001b[38;5;241m=\u001b[39mnp\u001b[38;5;241m.\u001b[39mmatmul(B,u[:,ntime])\n\u001b[1;32m---> 11\u001b[0m     x[non_fixed_neurons,ntime\u001b[38;5;241m+\u001b[39m\u001b[38;5;241m1\u001b[39m]\u001b[38;5;241m=\u001b[39mx[non_fixed_neurons,ntime]\u001b[38;5;241m*\u001b[39m(\u001b[38;5;241m1\u001b[39m\u001b[38;5;241m-\u001b[39mb)\u001b[38;5;241m+\u001b[39m\\\n\u001b[0;32m     12\u001b[0m     b\u001b[38;5;241m*\u001b[39msumB[non_fixed_neurons]\u001b[38;5;241m+\u001b[39mb\u001b[38;5;241m*\u001b[39msumJ[non_fixed_neurons]      \u001b[38;5;66;03m#ESPLICITO\u001b[39;00m\n\u001b[0;32m     14\u001b[0m     \u001b[38;5;66;03m#   x[:,ntime+1]=x[:,ntime]/(1+b)+b/(1+b)*(sumJ+sumB)       #IMPLICITO\u001b[39;00m\n\u001b[0;32m     17\u001b[0m z\u001b[38;5;241m=\u001b[39mx[reading_neuron,:]\n",
      "\u001b[1;31mKeyboardInterrupt\u001b[0m: "
     ]
    }
   ],
   "source": [
    "for ntime in range(tottime-1):\n",
    "\n",
    "\n",
    "    r[:,ntime]=np.tanh(x[:,ntime])\n",
    "    x[:,ntime]+=noise[:,ntime]              \n",
    "    \n",
    "    sumJ=np.matmul(J,r[:,ntime])\n",
    "        \n",
    "    sumB=np.matmul(B,u[:,ntime])\n",
    "    \n",
    "    x[non_fixed_neurons,ntime+1]=x[non_fixed_neurons,ntime]*(1-b)+\\\n",
    "    b*sumB[non_fixed_neurons]+b*sumJ[non_fixed_neurons]      #ESPLICITO\n",
    "\n",
    "    #   x[:,ntime+1]=x[:,ntime]/(1+b)+b/(1+b)*(sumJ+sumB)       #IMPLICITO\n",
    "\n",
    "\n",
    "z=x[reading_neuron,:]               #output  \n",
    "\n"
   ]
  },
  {
   "cell_type": "code",
   "execution_count": null,
   "metadata": {},
   "outputs": [
    {
     "data": {
      "image/png": "[encoded data removed]",
      "text/plain": [
       "<Figure size 432x288 with 1 Axes>"
      ]
     },
     "metadata": {
      "needs_background": "light"
     },
     "output_type": "display_data"
    }
   ],
   "source": [
    "plt.plot(x[:10,:].T)\n",
    "plt.show()"
   ]
  },
  {
   "cell_type": "code",
   "execution_count": null,
   "metadata": {},
   "outputs": [
    {
     "data": {
      "text/plain": [
       "[<matplotlib.lines.Line2D at 0x1c9b9fde710>]"
      ]
     },
     "execution_count": 111,
     "metadata": {},
     "output_type": "execute_result"
    },
    {
     "data": {
      "image/png": "[encoded data removed]",
      "text/plain": [
       "<Figure size 432x288 with 1 Axes>"
      ]
     },
     "metadata": {
      "needs_background": "light"
     },
     "output_type": "display_data"
    },
    {
     "data": {
      "image/png": "[encoded data removed]",
      "text/plain": [
       "<Figure size 432x288 with 1 Axes>"
      ]
     },
     "metadata": {
      "needs_background": "light"
     },
     "output_type": "display_data"
    }
   ],
   "source": [
    "idx_max_input1 = np.argmax(B[:,0])\n",
    "\n",
    "plt.plot(x[idx_max_input1,:])\n",
    "plt.plot(u[0,:])\n",
    "\n",
    "plt.figure()\n",
    "plt.plot(x[idx_max_input1+1,:])\n",
    "plt.plot(u[0,:])"
   ]
  },
  {
   "cell_type": "code",
   "execution_count": null,
   "metadata": {},
   "outputs": [
    {
     "ename": "ValueError",
     "evalue": "array must not contain infs or NaNs",
     "output_type": "error",
     "traceback": [
      "\u001b[1;31m---------------------------------------------------------------------------\u001b[0m",
      "\u001b[1;31mValueError\u001b[0m                                Traceback (most recent call last)",
      "Input \u001b[1;32mIn [112]\u001b[0m, in \u001b[0;36m<cell line: 6>\u001b[1;34m()\u001b[0m\n\u001b[0;32m      4\u001b[0m corr_input2 \u001b[38;5;241m=\u001b[39m np\u001b[38;5;241m.\u001b[39mzeros(N)\n\u001b[0;32m      6\u001b[0m \u001b[38;5;28;01mfor\u001b[39;00m i \u001b[38;5;129;01min\u001b[39;00m \u001b[38;5;28mrange\u001b[39m(N):\n\u001b[1;32m----> 7\u001b[0m     corr_input1[i],p\u001b[38;5;241m=\u001b[39m\u001b[43mpearsonr\u001b[49m\u001b[43m(\u001b[49m\u001b[43mu\u001b[49m\u001b[43m[\u001b[49m\u001b[38;5;241;43m0\u001b[39;49m\u001b[43m,\u001b[49m\u001b[43m:\u001b[49m\u001b[43m]\u001b[49m\u001b[43m,\u001b[49m\u001b[43mx\u001b[49m\u001b[43m[\u001b[49m\u001b[43mi\u001b[49m\u001b[43m,\u001b[49m\u001b[43m:\u001b[49m\u001b[43m]\u001b[49m\u001b[43m)\u001b[49m\n\u001b[0;32m      8\u001b[0m     corr_input2[i],p\u001b[38;5;241m=\u001b[39mpearsonr(u[\u001b[38;5;241m1\u001b[39m,:],x[i,:])\n\u001b[0;32m     10\u001b[0m plt\u001b[38;5;241m.\u001b[39mfigure()\n",
      "File \u001b[1;32mc:\\Users\\angel\\AppData\\Local\\Programs\\Python\\Python310\\lib\\site-packages\\scipy\\stats\\_stats_py.py:4091\u001b[0m, in \u001b[0;36mpearsonr\u001b[1;34m(x, y)\u001b[0m\n\u001b[0;32m   4087\u001b[0m \u001b[38;5;66;03m# Unlike np.linalg.norm or the expression sqrt((xm*xm).sum()),\u001b[39;00m\n\u001b[0;32m   4088\u001b[0m \u001b[38;5;66;03m# scipy.linalg.norm(xm) does not overflow if xm is, for example,\u001b[39;00m\n\u001b[0;32m   4089\u001b[0m \u001b[38;5;66;03m# [-5e210, 5e210, 3e200, -3e200]\u001b[39;00m\n\u001b[0;32m   4090\u001b[0m normxm \u001b[38;5;241m=\u001b[39m linalg\u001b[38;5;241m.\u001b[39mnorm(xm)\n\u001b[1;32m-> 4091\u001b[0m normym \u001b[38;5;241m=\u001b[39m \u001b[43mlinalg\u001b[49m\u001b[38;5;241;43m.\u001b[39;49m\u001b[43mnorm\u001b[49m\u001b[43m(\u001b[49m\u001b[43mym\u001b[49m\u001b[43m)\u001b[49m\n\u001b[0;32m   4093\u001b[0m threshold \u001b[38;5;241m=\u001b[39m \u001b[38;5;241m1e-13\u001b[39m\n\u001b[0;32m   4094\u001b[0m \u001b[38;5;28;01mif\u001b[39;00m normxm \u001b[38;5;241m<\u001b[39m threshold\u001b[38;5;241m*\u001b[39m\u001b[38;5;28mabs\u001b[39m(xmean) \u001b[38;5;129;01mor\u001b[39;00m normym \u001b[38;5;241m<\u001b[39m threshold\u001b[38;5;241m*\u001b[39m\u001b[38;5;28mabs\u001b[39m(ymean):\n\u001b[0;32m   4095\u001b[0m     \u001b[38;5;66;03m# If all the values in x (likewise y) are very close to the mean,\u001b[39;00m\n\u001b[0;32m   4096\u001b[0m     \u001b[38;5;66;03m# the loss of precision that occurs in the subtraction xm = x - xmean\u001b[39;00m\n\u001b[0;32m   4097\u001b[0m     \u001b[38;5;66;03m# might result in large errors in r.\u001b[39;00m\n",
      "File \u001b[1;32mc:\\Users\\angel\\AppData\\Local\\Programs\\Python\\Python310\\lib\\site-packages\\scipy\\linalg\\_misc.py:145\u001b[0m, in \u001b[0;36mnorm\u001b[1;34m(a, ord, axis, keepdims, check_finite)\u001b[0m\n\u001b[0;32m    143\u001b[0m \u001b[38;5;66;03m# Differs from numpy only in non-finite handling and the use of blas.\u001b[39;00m\n\u001b[0;32m    144\u001b[0m \u001b[38;5;28;01mif\u001b[39;00m check_finite:\n\u001b[1;32m--> 145\u001b[0m     a \u001b[38;5;241m=\u001b[39m \u001b[43mnp\u001b[49m\u001b[38;5;241;43m.\u001b[39;49m\u001b[43masarray_chkfinite\u001b[49m\u001b[43m(\u001b[49m\u001b[43ma\u001b[49m\u001b[43m)\u001b[49m\n\u001b[0;32m    146\u001b[0m \u001b[38;5;28;01melse\u001b[39;00m:\n\u001b[0;32m    147\u001b[0m     a \u001b[38;5;241m=\u001b[39m np\u001b[38;5;241m.\u001b[39masarray(a)\n",
      "File \u001b[1;32mc:\\Users\\angel\\AppData\\Local\\Programs\\Python\\Python310\\lib\\site-packages\\numpy\\lib\\function_base.py:603\u001b[0m, in \u001b[0;36masarray_chkfinite\u001b[1;34m(a, dtype, order)\u001b[0m\n\u001b[0;32m    601\u001b[0m a \u001b[38;5;241m=\u001b[39m asarray(a, dtype\u001b[38;5;241m=\u001b[39mdtype, order\u001b[38;5;241m=\u001b[39morder)\n\u001b[0;32m    602\u001b[0m \u001b[38;5;28;01mif\u001b[39;00m a\u001b[38;5;241m.\u001b[39mdtype\u001b[38;5;241m.\u001b[39mchar \u001b[38;5;129;01min\u001b[39;00m typecodes[\u001b[38;5;124m'\u001b[39m\u001b[38;5;124mAllFloat\u001b[39m\u001b[38;5;124m'\u001b[39m] \u001b[38;5;129;01mand\u001b[39;00m \u001b[38;5;129;01mnot\u001b[39;00m np\u001b[38;5;241m.\u001b[39misfinite(a)\u001b[38;5;241m.\u001b[39mall():\n\u001b[1;32m--> 603\u001b[0m     \u001b[38;5;28;01mraise\u001b[39;00m \u001b[38;5;167;01mValueError\u001b[39;00m(\n\u001b[0;32m    604\u001b[0m         \u001b[38;5;124m\"\u001b[39m\u001b[38;5;124marray must not contain infs or NaNs\u001b[39m\u001b[38;5;124m\"\u001b[39m)\n\u001b[0;32m    605\u001b[0m \u001b[38;5;28;01mreturn\u001b[39;00m a\n",
      "\u001b[1;31mValueError\u001b[0m: array must not contain infs or NaNs"
     ]
    }
   ],
   "source": [
    "from scipy.stats import pearsonr\n",
    "\n",
    "corr_input1 = np.zeros(N)\n",
    "corr_input2 = np.zeros(N)\n",
    "\n",
    "for i in range(N):\n",
    "    corr_input1[i],p=pearsonr(u[0,:],x[i,:])\n",
    "    corr_input2[i],p=pearsonr(u[1,:],x[i,:])\n",
    "    \n",
    "plt.figure()\n",
    "plt.scatter(B[:,0],corr_input1)\n",
    "\n",
    "plt.figure()\n",
    "plt.scatter(B[:,1],corr_input2)"
   ]
  },
  {
   "cell_type": "code",
   "execution_count": null,
   "metadata": {},
   "outputs": [],
   "source": []
  }
 ],
 "metadata": {
  "kernelspec": {
   "display_name": "Python 3 (ipykernel)",
   "language": "python",
   "name": "python3"
  },
  "language_info": {
   "codemirror_mode": {
    "name": "ipython",
    "version": 3
   },
   "file_extension": ".py",
   "mimetype": "text/x-python",
   "name": "python",
   "nbconvert_exporter": "python",
   "pygments_lexer": "ipython3",
   "version": "3.10.4"
  }
 },
 "nbformat": 4,
 "nbformat_minor": 2
}
