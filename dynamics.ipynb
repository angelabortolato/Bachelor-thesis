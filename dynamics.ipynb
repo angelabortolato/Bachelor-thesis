{
 "cells": [
  {
   "cell_type": "code",
   "execution_count": 27,
   "metadata": {},
   "outputs": [],
   "source": [
    "import numpy as np\n",
    "import random \n"
   ]
  },
  {
   "cell_type": "markdown",
   "metadata": {},
   "source": [
    "Implementiamo una simulazione della dinamica della RNN con metodo Eulero implicito\n",
    "\n",
    "la dinamica della rete è descitta dall'equazione: tau*dx_i/dt=-x_i(t)+sum(J_ij*r_j(t))+sum(B_ik*u_k(t)) con r_j(t)=tanh(x_i(t))"
   ]
  },
  {
   "cell_type": "markdown",
   "metadata": {},
   "source": [
    "Setto i valori delle costanti come nell'articolo di Miconi e inizializzo le matrici ai valori iniziali"
   ]
  },
  {
   "cell_type": "code",
   "execution_count": 28,
   "metadata": {},
   "outputs": [],
   "source": [
    "N=20            #numero neuroni\n",
    "M=2             #numero input\n",
    "tau=30          #tempo di rilassamento\n",
    "g=1.5           #early chaotic\n",
    "\n",
    "dt=1.\n",
    "tottime=1000\n",
    "startstim1 = 1\n",
    "timestim1 = 200\n",
    "startstim2 = 400\n",
    "timestim2 = 200\n",
    "\n",
    "J=np.zeros((N,N))\n",
    "x=np.zeros((N,tottime))\n",
    "r=np.zeros((N,tottime))\n",
    "u=np.zeros((M,tottime))\n",
    "B=np.zeros((N,M))\n"
   ]
  },
  {
   "cell_type": "code",
   "execution_count": 29,
   "metadata": {},
   "outputs": [],
   "source": [
    "for i in range(J.shape[0]): \n",
    "    for j in range(J.shape[1]):  \n",
    "        J[i,j]=random.normalvariate(0,(g/np.sqrt(N)))\n",
    "\n",
    "for i in range(B.shape[0]): \n",
    "    for k in range(B.shape[1]):  \n",
    "        B[i,k]=random.uniform(-1,1)\n",
    "for i in range(x.shape[0]):\n",
    "    x[i,0]=random.uniform(-0.1,0.1)\n",
    "    r[i,0]=np.tanh(x[i,0])\n",
    "\n",
    "# 4 neuroni hanno un bias di +1 ????\n",
    "# perturbazioni delta dove vanno messe ????"
   ]
  },
  {
   "cell_type": "markdown",
   "metadata": {},
   "source": [
    "Uso metodo Eulero esplicito: tau*(x_i(t_n+1)-x_i(t))/dt=-x_i(t)+sum(J_ij*r_j(t))+sum(B_ik*u_k(t)) e ricavo x_i(tn+1)\n",
    "\n",
    "Eulero implicito???"
   ]
  },
  {
   "cell_type": "code",
   "execution_count": 30,
   "metadata": {},
   "outputs": [],
   "source": [
    "b=dt/tau            #per semplicità definisco una nuova costante\n",
    "\n",
    "for ntime in range(tottime-1):\n",
    "    r[i,ntime]=np.tanh(x[i,ntime])\n",
    "    for i in range(x.shape[0]):\n",
    "        sumJ=0\n",
    "        sumB=0\n",
    "        for j in range(J.shape[1]):\n",
    "            sumJ+=J[i,j]*r[j,ntime]\n",
    "        for k in range(B.shape[1]):\n",
    "            sumB+=B[i,k]*u[k,ntime]\n",
    "        x[i,ntime+1]=x[i,ntime]*(1-b)+b*sumJ+b*sumB       #ESPLICITO\n",
    "\n",
    "        #   x[i,ntime+1]=x[i,ntime]/(1+b)+b/(1+b)*(sumJ+sumB)       #IMPLICITO\n",
    "\n"
   ]
  }
 ],
 "metadata": {
  "kernelspec": {
   "display_name": "Python 3",
   "language": "python",
   "name": "python3"
  },
  "language_info": {
   "codemirror_mode": {
    "name": "ipython",
    "version": 3
   },
   "file_extension": ".py",
   "mimetype": "text/x-python",
   "name": "python",
   "nbconvert_exporter": "python",
   "pygments_lexer": "ipython3",
   "version": "undefined.undefined.undefined"
  }
 },
 "nbformat": 4,
 "nbformat_minor": 2
}
