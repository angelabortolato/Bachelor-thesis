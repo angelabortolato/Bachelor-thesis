{
 "cells": [
  {
   "cell_type": "code",
   "execution_count": null,
   "metadata": {},
   "outputs": [],
   "source": [
    "import networkx as nx\n",
    "import matplotlib.pyplot as plt\n",
    "import numpy as np"
   ]
  },
  {
   "cell_type": "code",
   "execution_count": null,
   "metadata": {},
   "outputs": [],
   "source": [
    "# Initialize the graph\n",
    "G = nx.DiGraph()\n",
    "\n",
    "# Define the hidden nodes\n",
    "hidden_nodes = [f'h{i+1}' for i in range(200)]\n",
    "\n",
    "# Add hidden nodes to the graph\n",
    "G.add_nodes_from(hidden_nodes, layer='hidden')\n",
    "\n",
    "# Define the weight matrices with random values\n",
    "np.random.seed(0)  # For reproducibility\n",
    "W_hh = np.random.rand(200, 200)\n",
    "\n",
    "# Add edges for hidden to hidden connections\n",
    "for i, hidden_node_from in enumerate(hidden_nodes):\n",
    "    for j, hidden_node_to in enumerate(hidden_nodes):\n",
    "        G.add_edge(hidden_node_from, hidden_node_to, weight=W_hh[i, j])\n",
    "\n",
    "# Positioning the nodes in a circular layout\n",
    "pos = nx.circular_layout(G)\n"
   ]
  },
  {
   "cell_type": "code",
   "execution_count": null,
   "metadata": {},
   "outputs": [],
   "source": [
    "print(\" Draw the graph\")\n",
    "plt.figure(figsize=(12, 12))\n",
    "edges = G.edges(data=True)\n",
    "weights = [d['weight'] for (_, _, d) in edges]\n",
    "weights_normalized = [(w - min(weights)) / (max(weights) - min(weights)) for w in weights]\n",
    "edge_thickness = [1 + 4 * w for w in weights_normalized]  # Edge thickness modulation\n"
   ]
  },
  {
   "cell_type": "code",
   "execution_count": null,
   "metadata": {},
   "outputs": [],
   "source": [
    "print(\"Draw nodes\")\n",
    "nx.draw_networkx_nodes(G, pos, node_size=300, node_color='lightblue')\n"
   ]
  },
  {
   "cell_type": "code",
   "execution_count": null,
   "metadata": {},
   "outputs": [],
   "source": [
    "print(\"Draw edges with thickness based on weights\")\n",
    "nx.draw_networkx_edges(G, pos, edgelist=edges, width=1.,edge_cmap=)\n"
   ]
  },
  {
   "cell_type": "code",
   "execution_count": null,
   "metadata": {},
   "outputs": [],
   "source": [
    "print(\"Draw labels\")\n",
    "nx.draw_networkx_labels(G, pos, font_size=8, font_weight='bold')"
   ]
  },
  {
   "cell_type": "code",
   "execution_count": null,
   "metadata": {},
   "outputs": [],
   "source": [
    "plt.title('Recurrent Neural Network Graph (Hidden Nodes Only)')\n",
    "plt.show()"
   ]
  }
 ],
 "metadata": {
  "kernelspec": {
   "display_name": "Python 3",
   "language": "python",
   "name": "python3"
  },
  "language_info": {
   "codemirror_mode": {
    "name": "ipython",
    "version": 3
   },
   "file_extension": ".py",
   "mimetype": "text/x-python",
   "name": "python",
   "nbconvert_exporter": "python",
   "pygments_lexer": "ipython3",
   "version": "3.10.4"
  }
 },
 "nbformat": 4,
 "nbformat_minor": 2
}
