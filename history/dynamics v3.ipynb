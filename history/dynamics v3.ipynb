{
 "cells": [
  {
   "cell_type": "markdown",
   "metadata": {},
   "source": [
    "la dinamica della rete è descitta dall'equazione: tau*dx_i/dt=-x_i(t)+sum(J_ij*r_j(t))+sum(B_ik*u_k(t)) con r_j(t)=tanh(x_i(t))"
   ]
  },
  {
   "cell_type": "code",
   "execution_count": 23,
   "metadata": {},
   "outputs": [],
   "source": [
    "import numpy as np\n",
    "import random \n",
    "import matplotlib.pyplot as plt"
   ]
  },
  {
   "cell_type": "markdown",
   "metadata": {},
   "source": [
    "Generation class trial"
   ]
  },
  {
   "cell_type": "code",
   "execution_count": 24,
   "metadata": {},
   "outputs": [],
   "source": [
    "def trial(T=1500):\n",
    "        \n",
    "    u=np.zeros((T,2))\n",
    "    \n",
    "    #y=np.zeros(T)\n",
    "  \n",
    "    stim1=np.random.randint(0,2) # random number, either 0 or 1 -> 0=A 1=B\n",
    "    stim2=np.random.randint(0,2) # random number, either 0 or 1\n",
    "\n",
    "    ty=stim1+2*stim2                        #trial type: 0=AA, 1=BA, 2=AB, 3=BB\n",
    "\n",
    "    ''' \n",
    "    if stim=0 (A) u1=1 and u2=0\n",
    "    if stim=1 (B) u1=0 and u2=1\n",
    "    '''\n",
    "    \n",
    "    u[:200,stim1]=1\n",
    "    u[400:600,stim2]=1\n",
    "\n",
    "    ''' \n",
    "    if identical inputs, output = -1\n",
    "    if different inputs, output = 1\n",
    "    '''\n",
    "    \n",
    "    #y[800:1000]=-1+2*np.mod(stim1+stim2,2)\n",
    "    y=-1+2*np.mod(stim1+stim2,2)\n",
    "    \n",
    "    return u,y,ty\n",
    "\n",
    "\n",
    "def generate_trials(n_trials,T=1500):\n",
    "\n",
    "    U = np.zeros((n_trials,T,2))\n",
    "    Y = np.zeros(n_trials)#,T))\n",
    "    TY=np.zeros(n_trials)\n",
    "\n",
    "    for n in range(n_trials):\n",
    "        \n",
    "        u,y,ty=trial()\n",
    "        \n",
    "        U[n,:,:]=u\n",
    "        #Y[n,:]=y\n",
    "        Y[n]=y\n",
    "        TY[n]=ty\n",
    "\n",
    "    return U,Y,TY\n",
    "        "
   ]
  },
  {
   "cell_type": "markdown",
   "metadata": {},
   "source": [
    "Constants and initialization"
   ]
  },
  {
   "cell_type": "code",
   "execution_count": 54,
   "metadata": {
    "scrolled": true
   },
   "outputs": [],
   "source": [
    "N=200           #numero neuroni\n",
    "M=2             #numero input\n",
    "tau=30          #tempo di rilassamento\n",
    "g=1.5           #early chaotic\n",
    "eta=0.5         #learning rate\n",
    "alpha=0.33\n",
    "\n",
    "dt=1.\n",
    "T=1500\n",
    "n_trials=1000\n",
    "tottime=T*n_trials\n",
    "\n",
    "b=dt/tau            #per semplicità definisco una nuova costante\n",
    "\n",
    "\n",
    "J=np.zeros((N,N))\n",
    "deltaJ=np.zeros((N,N))  \n",
    "x=np.zeros((N,tottime))\n",
    "x_ave=np.zeros(N)\n",
    "r=np.zeros((N,tottime))\n",
    "u=np.zeros((M,tottime))\n",
    "\n",
    "E=np.zeros((N,N))#,tottime)) \n",
    "\n",
    "z=np.zeros(tottime)\n",
    "B=np.zeros((N,M))\n",
    "\n",
    "U,Y,TY = generate_trials(T=T,n_trials=n_trials)\n",
    "\n",
    "R_ave=np.zeros(4)       #running average for each trial type\n",
    "err=np.zeros(n_trials)\n",
    "\n",
    "u=np.reshape(U,(n_trials*T,2)).T\n"
   ]
  },
  {
   "cell_type": "code",
   "execution_count": 55,
   "metadata": {},
   "outputs": [],
   "source": [
    "J = np.random.normal(0,g/np.sqrt(N),(N,N))\n",
    "\n",
    "B= -1+2*np.random.rand(N,M)\n",
    "\n",
    "x[:,0]=-0.1+0.2*np.random.rand(N)\n"
   ]
  },
  {
   "cell_type": "markdown",
   "metadata": {},
   "source": [
    "Creating exploratory noise"
   ]
  },
  {
   "cell_type": "code",
   "execution_count": 42,
   "metadata": {},
   "outputs": [],
   "source": [
    "noise= np.zeros((N,tottime))\n",
    "rate=3./1000\n",
    "\n",
    "for t in range(tottime):\n",
    "     for i in range(N):\n",
    "          if(np.random.rand()<rate):\n",
    "               noise[i,t]=-0.5+1.*np.random.rand()\n",
    "               \n",
    "#print(noise[:,:5])                 #provo a contrarre gli indici, ma questo mi produce noise=0  "
   ]
  },
  {
   "cell_type": "markdown",
   "metadata": {},
   "source": [
    "Fix biased neurons"
   ]
  },
  {
   "cell_type": "code",
   "execution_count": 28,
   "metadata": {},
   "outputs": [],
   "source": [
    "n_fixed=4\n",
    "\n",
    "fixed_neurons = np.random.choice(N,n_fixed,replace=False)\n",
    "\n",
    "non_fixed_neurons = np.delete(np.arange(N),fixed_neurons)\n",
    "\n",
    "reading_neuron = np.random.choice(non_fixed_neurons,1)\n",
    "reading_neuron = reading_neuron[0]\n",
    "\n",
    "\n",
    "x[fixed_neurons,:]=1\n"
   ]
  },
  {
   "cell_type": "markdown",
   "metadata": {},
   "source": [
    "Training"
   ]
  },
  {
   "cell_type": "code",
   "execution_count": 56,
   "metadata": {},
   "outputs": [
    {
     "name": "stdout",
     "output_type": "stream",
     "text": [
      "1.4778467930869055\n",
      "0.5262132690175381\n",
      "0.20129829483017958\n",
      "1.535565329883413\n",
      "0.5209391040944392\n",
      "2.0153114697057974\n",
      "0.08413896232453544\n",
      "0.7214057881653566\n",
      "4.228762205276458\n",
      "0.8054222405134692\n",
      "0.5140347538101151\n",
      "1.5740920173057038\n",
      "1.1373518974886998\n",
      "1.8520516937208176\n",
      "0.12751452515774764\n",
      "1.1941024902362076\n",
      "1.732586132198355\n",
      "0.464740446282905\n",
      "1.6607306850910546\n",
      "1.2821395503047535\n",
      "0.15738657849552218\n",
      "2.1121274215249644\n",
      "1.1454779823683157\n",
      "1.2820661820941337\n",
      "0.9021117755261584\n",
      "1.647564803788021\n",
      "1.820567654003626\n",
      "0.036069376919231955\n",
      "1.0364959456605658\n",
      "0.583383935587724\n",
      "1.8566047350178054\n",
      "0.17796689838722446\n",
      "0.3056849973911143\n",
      "0.015432539810491197\n",
      "0.9664487972177315\n",
      "1.1728357579015187\n",
      "1.3809368816556467\n",
      "1.122554841721557\n",
      "1.4094120799454923\n",
      "0.2566902950791061\n",
      "0.6557501722797152\n",
      "0.6949780819583569\n",
      "1.17175177122773\n",
      "0.04711632285334699\n",
      "0.41135381688778205\n",
      "1.4541000731374905\n",
      "1.8867876756213846\n",
      "1.3571605115017087\n",
      "0.2015836660667103\n",
      "0.6397707799205437\n",
      "0.4639121637285618\n",
      "0.3454373094390213\n",
      "0.5672307877047944\n",
      "1.6266499937891843\n",
      "2.1284303116610346\n",
      "0.716950978884392\n",
      "1.2070874936751466\n",
      "1.664006264004953\n",
      "1.5354036941903697\n",
      "1.0996670843452159\n",
      "0.5465258877700663\n",
      "0.5526031811856578\n",
      "0.7098744028400432\n",
      "0.06476580583351677\n",
      "0.5111779244120758\n",
      "0.033808361294232814\n",
      "0.32784869450421694\n",
      "1.387395225400878\n",
      "1.718228163669827\n",
      "0.47116808748648387\n",
      "1.5074595749934534\n",
      "0.05965178927382053\n",
      "1.5596820043488426\n",
      "1.1270498686083519\n",
      "0.16646099663514458\n",
      "1.4804779380322608\n",
      "1.6895977548073993\n",
      "1.3612477764508557\n",
      "1.1658830264188513\n",
      "1.5956949201034873\n",
      "1.7589589318055854\n",
      "1.7119200264237096\n",
      "1.1569507076227543\n",
      "0.2643977905945095\n",
      "0.009769704535621315\n",
      "0.8341940571638546\n",
      "0.19129108384967064\n",
      "0.4852468134527811\n",
      "0.5338996278765773\n",
      "0.12295191192703259\n",
      "0.6260049896952691\n",
      "0.32959087354841854\n",
      "1.363858453902312\n",
      "1.5323623662822818\n",
      "0.49783678121531905\n",
      "1.6779881388748912\n",
      "1.773010956752559\n",
      "0.15536801011308388\n",
      "1.2319597503775026\n",
      "1.3582014341161308\n",
      "1.6075086385478226\n",
      "1.6411200498061471\n",
      "0.3132952120271648\n",
      "1.5300047328195032\n",
      "1.7296181977371035\n",
      "1.6249083653216538\n",
      "1.3025181038823603\n",
      "0.6211280155676958\n",
      "0.10433958529556242\n",
      "0.7540084525907317\n",
      "0.026967795764946123\n",
      "1.2206659347584596\n",
      "0.8764380861755371\n",
      "1.674803202736971\n",
      "1.7959931746859001\n",
      "0.8782964585756792\n",
      "0.791059090983432\n",
      "1.4793258928793773\n",
      "1.2961230171595726\n",
      "0.4330821330271135\n",
      "0.4673739431186066\n",
      "1.646692458102886\n",
      "0.202743710159892\n",
      "0.792820102127817\n",
      "1.4922439022829928\n",
      "0.2455500960517898\n",
      "1.6973913083025054\n",
      "0.017601393528778986\n",
      "0.8870470160591416\n",
      "1.6792056066455872\n",
      "1.8766335876219107\n",
      "1.7355097625033387\n",
      "1.3836658605503316\n",
      "1.0084274087255738\n",
      "1.1348986640338745\n",
      "0.2876365826465114\n",
      "1.6017480358430172\n",
      "1.7053874201287067\n",
      "0.3605968451024958\n",
      "1.1888335487092616\n",
      "1.344307880794957\n",
      "1.2316365066009554\n",
      "1.332582111014146\n",
      "0.514586534519565\n",
      "0.6786001665321473\n",
      "1.6512818774144007\n",
      "1.494401733148717\n",
      "0.13703798917215904\n",
      "1.1913377031305425\n",
      "0.625485379261432\n",
      "1.6509294320934436\n",
      "1.726042502494444\n",
      "1.469180162464213\n",
      "0.7410051282447458\n",
      "0.18995375428502936\n",
      "1.2543159264661996\n",
      "1.8558720056220843\n",
      "0.36492912451032933\n",
      "1.0506559860052604\n",
      "0.39537549292894514\n",
      "0.5479674895059239\n",
      "1.788254135114259\n",
      "0.5714662975028195\n",
      "0.7571372636120066\n",
      "0.48186097397157746\n",
      "1.1449877230094827\n",
      "0.22797171083195567\n",
      "1.5769413028094224\n",
      "1.6468808562012198\n",
      "1.7550868027141862\n",
      "0.6904670863592564\n",
      "1.7918689786474262\n",
      "1.2808868417430195\n",
      "0.2493978246131452\n",
      "1.6062969366563726\n",
      "1.934155796143922\n",
      "1.6392972595210908\n",
      "1.2886711663732229\n",
      "1.2513170524494386\n",
      "0.3914643219348397\n",
      "0.48830259385513675\n",
      "0.08152996077581198\n"
     ]
    },
    {
     "ename": "KeyboardInterrupt",
     "evalue": "",
     "output_type": "error",
     "traceback": [
      "\u001b[1;31m---------------------------------------------------------------------------\u001b[0m",
      "\u001b[1;31mKeyboardInterrupt\u001b[0m                         Traceback (most recent call last)",
      "Input \u001b[1;32mIn [56]\u001b[0m, in \u001b[0;36m<cell line: 1>\u001b[1;34m()\u001b[0m\n\u001b[0;32m     16\u001b[0m \u001b[38;5;66;03m#x[non_fixed_neurons,ntime+1]=x[non_fixed_neurons,ntime]*(1-b)+\\\u001b[39;00m\n\u001b[0;32m     17\u001b[0m \u001b[38;5;66;03m#b*sumB[non_fixed_neurons]+b*sumJ[non_fixed_neurons]      #ESPLICITO\u001b[39;00m\n\u001b[0;32m     19\u001b[0m x[non_fixed_neurons,ntime\u001b[38;5;241m+\u001b[39m\u001b[38;5;241m1\u001b[39m]\u001b[38;5;241m=\u001b[39mx[non_fixed_neurons,ntime]\u001b[38;5;241m/\u001b[39m(\u001b[38;5;241m1\u001b[39m\u001b[38;5;241m+\u001b[39mb)\u001b[38;5;241m+\u001b[39mb\u001b[38;5;241m/\u001b[39m(\u001b[38;5;241m1\u001b[39m\u001b[38;5;241m+\u001b[39mb)\u001b[38;5;241m*\u001b[39m(sumJ[non_fixed_neurons]\u001b[38;5;241m+\u001b[39msumB[non_fixed_neurons])       \u001b[38;5;66;03m#IMPLICITO\u001b[39;00m\n\u001b[1;32m---> 22\u001b[0m x_ave[:]\u001b[38;5;241m=\u001b[39m\u001b[43mnp\u001b[49m\u001b[38;5;241;43m.\u001b[39;49m\u001b[43mmean\u001b[49m\u001b[43m(\u001b[49m\u001b[43mx\u001b[49m\u001b[43m[\u001b[49m\u001b[43m:\u001b[49m\u001b[43m,\u001b[49m\u001b[43m \u001b[49m\u001b[43mshort_term\u001b[49m\u001b[43m]\u001b[49m\u001b[43m,\u001b[49m\u001b[43maxis\u001b[49m\u001b[38;5;241;43m=\u001b[39;49m\u001b[38;5;241;43m1\u001b[39;49m\u001b[43m)\u001b[49m                   \u001b[38;5;66;03m# short-term average on last 5 neuron activity\u001b[39;00m\n\u001b[0;32m     24\u001b[0m \u001b[38;5;66;03m#for j in range(N):\u001b[39;00m\n\u001b[0;32m     25\u001b[0m E[:,\u001b[38;5;241m.\u001b[39m\u001b[38;5;241m.\u001b[39m\u001b[38;5;241m.\u001b[39m]\u001b[38;5;241m+\u001b[39m\u001b[38;5;241m=\u001b[39m\u001b[38;5;28mpow\u001b[39m((r[\u001b[38;5;241m.\u001b[39m\u001b[38;5;241m.\u001b[39m\u001b[38;5;241m.\u001b[39m,ntime]\u001b[38;5;241m*\u001b[39m(x[:,ntime\u001b[38;5;241m+\u001b[39m\u001b[38;5;241m1\u001b[39m]\u001b[38;5;241m-\u001b[39mx_ave[:])\u001b[38;5;241m.\u001b[39mT),\u001b[38;5;241m3\u001b[39m)     \n",
      "File \u001b[1;32m<__array_function__ internals>:177\u001b[0m, in \u001b[0;36mmean\u001b[1;34m(*args, **kwargs)\u001b[0m\n",
      "\u001b[1;31mKeyboardInterrupt\u001b[0m: "
     ]
    }
   ],
   "source": [
    "for ntime in range(tottime-1):\n",
    "\n",
    "    if (ntime<5):\n",
    "        short_term=np.arange(ntime+1)\n",
    "    else:\n",
    "        short_term=np.arange(ntime-5, ntime+1, 1)       #indices from ntime-5 to ntime included \n",
    "        \n",
    "\n",
    "    r[:,ntime]=np.tanh(x[:,ntime])\n",
    "    x[:,ntime]+=noise[:,ntime]              \n",
    "    \n",
    "    sumJ=np.matmul(J,r[:,ntime])\n",
    "        \n",
    "    sumB=np.matmul(B,u[:,ntime])\n",
    "    \n",
    "    #x[non_fixed_neurons,ntime+1]=x[non_fixed_neurons,ntime]*(1-b)+\\\n",
    "    #b*sumB[non_fixed_neurons]+b*sumJ[non_fixed_neurons]      #ESPLICITO\n",
    "\n",
    "    x[non_fixed_neurons,ntime+1]=x[non_fixed_neurons,ntime]/(1+b)+b/(1+b)*(sumJ[non_fixed_neurons]+sumB[non_fixed_neurons])       #IMPLICITO\n",
    "\n",
    "\n",
    "    x_ave[:]=np.mean(x[:, short_term],axis=1)                   # short-term average on last 5 neuron activity\n",
    "\n",
    "    E[:,...]+=pow((r[...,ntime]*(x[:,ntime+1]-x_ave[:]).T),3)     \n",
    "\n",
    "   \n",
    "    if(np.mod(ntime,T)==T-2):                       #ultimo time step di ciascun trial \n",
    "        curr_trial=ntime//T\n",
    "        curr_ty=int(TY[curr_trial])           #trial type : 0=AA, 1=BA, 2=AB, 3=BB\n",
    "\n",
    "        outp=np.mean(x[reading_neuron,(ntime-699):(ntime-499)]) #network output, mean over 200ms of response time\n",
    "        err[curr_trial]=abs(Y[curr_trial]-outp)                             #network error = comparison between expected output and net output\n",
    "        R=1-0.5*err[curr_trial]\n",
    "        print(err[curr_trial])\n",
    "        \n",
    "        deltaJ=eta*(R-R_ave[curr_ty])*E\n",
    "        J+=deltaJ\n",
    "        R_ave[curr_ty]=alpha*R_ave[curr_ty]+(1-alpha)*R\n",
    "        E=np.zeros((N,N))\n",
    "        deltaJ=np.zeros((N,N)) \n",
    "        \n",
    "       # z=x[reading_neuron,:]     \n",
    "\n",
    "\n"
   ]
  },
  {
   "cell_type": "code",
   "execution_count": 47,
   "metadata": {},
   "outputs": [
    {
     "data": {
      "image/png": "[encoded data removed]",
      "text/plain": [
       "<Figure size 432x288 with 1 Axes>"
      ]
     },
     "metadata": {
      "needs_background": "light"
     },
     "output_type": "display_data"
    }
   ],
   "source": [
    "plt.plot(err)\n",
    "plt.show()"
   ]
  },
  {
   "cell_type": "markdown",
   "metadata": {},
   "source": [
    "Simulation dynamics already trained"
   ]
  },
  {
   "cell_type": "code",
   "execution_count": null,
   "metadata": {},
   "outputs": [],
   "source": [
    "for ntime in range(tottime-1):\n",
    "\n",
    "\n",
    "    r[:,ntime]=np.tanh(x[:,ntime])\n",
    "    x[:,ntime]+=noise[:,ntime]              \n",
    "    \n",
    "    sumJ=np.matmul(J,r[:,ntime])\n",
    "        \n",
    "    sumB=np.matmul(B,u[:,ntime])\n",
    "    \n",
    "    x[non_fixed_neurons,ntime+1]=x[non_fixed_neurons,ntime]*(1-b)+\\\n",
    "    b*sumB[non_fixed_neurons]+b*sumJ[non_fixed_neurons]      #ESPLICITO\n",
    "\n",
    "    #   x[:,ntime+1]=x[:,ntime]/(1+b)+b/(1+b)*(sumJ+sumB)       #IMPLICITO\n",
    "\n",
    "\n",
    "z=x[reading_neuron,:]               #output  \n",
    "\n"
   ]
  },
  {
   "cell_type": "code",
   "execution_count": null,
   "metadata": {},
   "outputs": [
    {
     "data": {
      "image/png": "[encoded data removed]",
      "text/plain": [
       "<Figure size 432x288 with 1 Axes>"
      ]
     },
     "metadata": {
      "needs_background": "light"
     },
     "output_type": "display_data"
    }
   ],
   "source": [
    "plt.plot(x[:10,:].T)\n",
    "plt.show()"
   ]
  },
  {
   "cell_type": "code",
   "execution_count": null,
   "metadata": {},
   "outputs": [
    {
     "data": {
      "text/plain": [
       "[<matplotlib.lines.Line2D at 0x2c81cc65780>]"
      ]
     },
     "execution_count": 21,
     "metadata": {},
     "output_type": "execute_result"
    },
    {
     "data": {
      "image/png": "[encoded data removed]",
      "text/plain": [
       "<Figure size 432x288 with 1 Axes>"
      ]
     },
     "metadata": {
      "needs_background": "light"
     },
     "output_type": "display_data"
    },
    {
     "data": {
      "image/png": "[encoded data removed]",
      "text/plain": [
       "<Figure size 432x288 with 1 Axes>"
      ]
     },
     "metadata": {
      "needs_background": "light"
     },
     "output_type": "display_data"
    }
   ],
   "source": [
    "idx_max_input1 = np.argmax(B[:,0])\n",
    "\n",
    "plt.plot(x[idx_max_input1,:])\n",
    "plt.plot(u[0,:])\n",
    "\n",
    "plt.figure()\n",
    "plt.plot(x[idx_max_input1+1,:])\n",
    "plt.plot(u[0,:])"
   ]
  },
  {
   "cell_type": "code",
   "execution_count": null,
   "metadata": {},
   "outputs": [
    {
     "ename": "ValueError",
     "evalue": "array must not contain infs or NaNs",
     "output_type": "error",
     "traceback": [
      "\u001b[1;31m---------------------------------------------------------------------------\u001b[0m",
      "\u001b[1;31mValueError\u001b[0m                                Traceback (most recent call last)",
      "Input \u001b[1;32mIn [22]\u001b[0m, in \u001b[0;36m<cell line: 6>\u001b[1;34m()\u001b[0m\n\u001b[0;32m      4\u001b[0m corr_input2 \u001b[38;5;241m=\u001b[39m np\u001b[38;5;241m.\u001b[39mzeros(N)\n\u001b[0;32m      6\u001b[0m \u001b[38;5;28;01mfor\u001b[39;00m i \u001b[38;5;129;01min\u001b[39;00m \u001b[38;5;28mrange\u001b[39m(N):\n\u001b[1;32m----> 7\u001b[0m     corr_input1[i],p\u001b[38;5;241m=\u001b[39m\u001b[43mpearsonr\u001b[49m\u001b[43m(\u001b[49m\u001b[43mu\u001b[49m\u001b[43m[\u001b[49m\u001b[38;5;241;43m0\u001b[39;49m\u001b[43m,\u001b[49m\u001b[43m:\u001b[49m\u001b[43m]\u001b[49m\u001b[43m,\u001b[49m\u001b[43mx\u001b[49m\u001b[43m[\u001b[49m\u001b[43mi\u001b[49m\u001b[43m,\u001b[49m\u001b[43m:\u001b[49m\u001b[43m]\u001b[49m\u001b[43m)\u001b[49m\n\u001b[0;32m      8\u001b[0m     corr_input2[i],p\u001b[38;5;241m=\u001b[39mpearsonr(u[\u001b[38;5;241m1\u001b[39m,:],x[i,:])\n\u001b[0;32m     10\u001b[0m plt\u001b[38;5;241m.\u001b[39mfigure()\n",
      "File \u001b[1;32mc:\\Users\\angel\\AppData\\Local\\Programs\\Python\\Python310\\lib\\site-packages\\scipy\\stats\\_stats_py.py:4091\u001b[0m, in \u001b[0;36mpearsonr\u001b[1;34m(x, y)\u001b[0m\n\u001b[0;32m   4087\u001b[0m \u001b[38;5;66;03m# Unlike np.linalg.norm or the expression sqrt((xm*xm).sum()),\u001b[39;00m\n\u001b[0;32m   4088\u001b[0m \u001b[38;5;66;03m# scipy.linalg.norm(xm) does not overflow if xm is, for example,\u001b[39;00m\n\u001b[0;32m   4089\u001b[0m \u001b[38;5;66;03m# [-5e210, 5e210, 3e200, -3e200]\u001b[39;00m\n\u001b[0;32m   4090\u001b[0m normxm \u001b[38;5;241m=\u001b[39m linalg\u001b[38;5;241m.\u001b[39mnorm(xm)\n\u001b[1;32m-> 4091\u001b[0m normym \u001b[38;5;241m=\u001b[39m \u001b[43mlinalg\u001b[49m\u001b[38;5;241;43m.\u001b[39;49m\u001b[43mnorm\u001b[49m\u001b[43m(\u001b[49m\u001b[43mym\u001b[49m\u001b[43m)\u001b[49m\n\u001b[0;32m   4093\u001b[0m threshold \u001b[38;5;241m=\u001b[39m \u001b[38;5;241m1e-13\u001b[39m\n\u001b[0;32m   4094\u001b[0m \u001b[38;5;28;01mif\u001b[39;00m normxm \u001b[38;5;241m<\u001b[39m threshold\u001b[38;5;241m*\u001b[39m\u001b[38;5;28mabs\u001b[39m(xmean) \u001b[38;5;129;01mor\u001b[39;00m normym \u001b[38;5;241m<\u001b[39m threshold\u001b[38;5;241m*\u001b[39m\u001b[38;5;28mabs\u001b[39m(ymean):\n\u001b[0;32m   4095\u001b[0m     \u001b[38;5;66;03m# If all the values in x (likewise y) are very close to the mean,\u001b[39;00m\n\u001b[0;32m   4096\u001b[0m     \u001b[38;5;66;03m# the loss of precision that occurs in the subtraction xm = x - xmean\u001b[39;00m\n\u001b[0;32m   4097\u001b[0m     \u001b[38;5;66;03m# might result in large errors in r.\u001b[39;00m\n",
      "File \u001b[1;32mc:\\Users\\angel\\AppData\\Local\\Programs\\Python\\Python310\\lib\\site-packages\\scipy\\linalg\\_misc.py:145\u001b[0m, in \u001b[0;36mnorm\u001b[1;34m(a, ord, axis, keepdims, check_finite)\u001b[0m\n\u001b[0;32m    143\u001b[0m \u001b[38;5;66;03m# Differs from numpy only in non-finite handling and the use of blas.\u001b[39;00m\n\u001b[0;32m    144\u001b[0m \u001b[38;5;28;01mif\u001b[39;00m check_finite:\n\u001b[1;32m--> 145\u001b[0m     a \u001b[38;5;241m=\u001b[39m \u001b[43mnp\u001b[49m\u001b[38;5;241;43m.\u001b[39;49m\u001b[43masarray_chkfinite\u001b[49m\u001b[43m(\u001b[49m\u001b[43ma\u001b[49m\u001b[43m)\u001b[49m\n\u001b[0;32m    146\u001b[0m \u001b[38;5;28;01melse\u001b[39;00m:\n\u001b[0;32m    147\u001b[0m     a \u001b[38;5;241m=\u001b[39m np\u001b[38;5;241m.\u001b[39masarray(a)\n",
      "File \u001b[1;32mc:\\Users\\angel\\AppData\\Local\\Programs\\Python\\Python310\\lib\\site-packages\\numpy\\lib\\function_base.py:603\u001b[0m, in \u001b[0;36masarray_chkfinite\u001b[1;34m(a, dtype, order)\u001b[0m\n\u001b[0;32m    601\u001b[0m a \u001b[38;5;241m=\u001b[39m asarray(a, dtype\u001b[38;5;241m=\u001b[39mdtype, order\u001b[38;5;241m=\u001b[39morder)\n\u001b[0;32m    602\u001b[0m \u001b[38;5;28;01mif\u001b[39;00m a\u001b[38;5;241m.\u001b[39mdtype\u001b[38;5;241m.\u001b[39mchar \u001b[38;5;129;01min\u001b[39;00m typecodes[\u001b[38;5;124m'\u001b[39m\u001b[38;5;124mAllFloat\u001b[39m\u001b[38;5;124m'\u001b[39m] \u001b[38;5;129;01mand\u001b[39;00m \u001b[38;5;129;01mnot\u001b[39;00m np\u001b[38;5;241m.\u001b[39misfinite(a)\u001b[38;5;241m.\u001b[39mall():\n\u001b[1;32m--> 603\u001b[0m     \u001b[38;5;28;01mraise\u001b[39;00m \u001b[38;5;167;01mValueError\u001b[39;00m(\n\u001b[0;32m    604\u001b[0m         \u001b[38;5;124m\"\u001b[39m\u001b[38;5;124marray must not contain infs or NaNs\u001b[39m\u001b[38;5;124m\"\u001b[39m)\n\u001b[0;32m    605\u001b[0m \u001b[38;5;28;01mreturn\u001b[39;00m a\n",
      "\u001b[1;31mValueError\u001b[0m: array must not contain infs or NaNs"
     ]
    }
   ],
   "source": [
    "from scipy.stats import pearsonr\n",
    "\n",
    "corr_input1 = np.zeros(N)\n",
    "corr_input2 = np.zeros(N)\n",
    "\n",
    "for i in range(N):\n",
    "    corr_input1[i],p=pearsonr(u[0,:],x[i,:])\n",
    "    corr_input2[i],p=pearsonr(u[1,:],x[i,:])\n",
    "    \n",
    "plt.figure()\n",
    "plt.scatter(B[:,0],corr_input1)\n",
    "\n",
    "plt.figure()\n",
    "plt.scatter(B[:,1],corr_input2)"
   ]
  },
  {
   "cell_type": "code",
   "execution_count": null,
   "metadata": {},
   "outputs": [],
   "source": []
  }
 ],
 "metadata": {
  "kernelspec": {
   "display_name": "Python 3 (ipykernel)",
   "language": "python",
   "name": "python3"
  },
  "language_info": {
   "codemirror_mode": {
    "name": "ipython",
    "version": 3
   },
   "file_extension": ".py",
   "mimetype": "text/x-python",
   "name": "python",
   "nbconvert_exporter": "python",
   "pygments_lexer": "ipython3",
   "version": "3.10.4"
  }
 },
 "nbformat": 4,
 "nbformat_minor": 2
}
